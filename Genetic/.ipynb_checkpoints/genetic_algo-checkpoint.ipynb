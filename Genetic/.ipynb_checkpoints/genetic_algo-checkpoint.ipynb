{
 "cells": [
  {
   "cell_type": "markdown",
   "metadata": {},
   "source": [
    "## This notebook will contain an (initial) implementation of a genetic algorithm for the optimization of the periodic table as discussed in the other documents.\n",
    "\n",
    "---\n",
    "\n",
    "We first need to define a general structure from which any periodic table can emerge by modulation of parameters. Defining a class is the most suitable approach for this."
   ]
  },
  {
   "cell_type": "code",
   "execution_count": null,
   "metadata": {},
   "outputs": [],
   "source": [
    "class PeriodicTable():\n",
    "    \"\"\"\n",
    "    A PT is defined by:\n",
    "        - A set of elements (this should be the same for all tables here)\n",
    "        - A shape ( (height,width) of a rectangle)\n",
    "        - A set of positions for all elements within the rectangle defined above\n",
    "    \"\"\"\n",
    "    \n",
    "    def __init__(self,shape,positions):\n",
    "        self.horiz = shape[0]\n",
    "        self.verti = shape[1]\n",
    "        self.posit = positions\n",
    "        \n",
    "    def printHi(self):\n",
    "        print('Hi')\n",
    "        \n",
    "    def printArg(self):\n",
    "        print(self.arg)"
   ]
  },
  {
   "cell_type": "code",
   "execution_count": null,
   "metadata": {},
   "outputs": [],
   "source": []
  },
  {
   "cell_type": "code",
   "execution_count": null,
   "metadata": {},
   "outputs": [],
   "source": []
  },
  {
   "cell_type": "code",
   "execution_count": null,
   "metadata": {},
   "outputs": [],
   "source": [
    "# Function to construct a TPR given a PeriodicTable object\n",
    "def getTable(positions,shape,listElem):\n",
    "    \"\"\"\n",
    "    This gets as input: a dict of positions of elements within a PT,\n",
    "    the shape of a rectangular PT, and a list of elements. \n",
    "        \n",
    "    Returns a 2D array coloured at the positions of these elements\n",
    "    Shape is (#cols, #rows) #cols = 6, #rows = 32 if Lanthanides included, 18 if not\n",
    "    \"\"\"\n",
    "    \n",
    "    table = -np.ones(TPshape)\n",
    "    for elem in FullElemntList:   # ONLY EXISTENT ELEMENTS ARE SHOWN IN COLOR \n",
    "        x,y = TP[elem]\n",
    "        if elem in listElem:   table[x,y] = 1.  #If in element list: one color\n",
    "        elif elem==incogn:     table[x,y] = -2\n",
    "        else:                  table[x,y] = 0.  #If not, other.\n",
    "    return table"
   ]
  },
  {
   "cell_type": "code",
   "execution_count": 3,
   "metadata": {},
   "outputs": [],
   "source": []
  },
  {
   "cell_type": "code",
   "execution_count": 4,
   "metadata": {},
   "outputs": [
    {
     "name": "stdout",
     "output_type": "stream",
     "text": [
      "Hi\n",
      "hola\n"
     ]
    }
   ],
   "source": [
    "a = PeriodicTable('hola')\n",
    "a.printHi()\n",
    "a.printArg()"
   ]
  },
  {
   "cell_type": "code",
   "execution_count": null,
   "metadata": {},
   "outputs": [],
   "source": []
  }
 ],
 "metadata": {
  "kernelspec": {
   "display_name": "cv",
   "language": "python",
   "name": "cv"
  },
  "language_info": {
   "codemirror_mode": {
    "name": "ipython",
    "version": 3
   },
   "file_extension": ".py",
   "mimetype": "text/x-python",
   "name": "python",
   "nbconvert_exporter": "python",
   "pygments_lexer": "ipython3",
   "version": "3.7.9"
  }
 },
 "nbformat": 4,
 "nbformat_minor": 2
}
