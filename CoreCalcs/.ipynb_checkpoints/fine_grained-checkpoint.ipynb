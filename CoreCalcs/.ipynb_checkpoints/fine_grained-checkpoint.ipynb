{
 "cells": [
  {
   "cell_type": "markdown",
   "metadata": {},
   "source": [
    "## Some utilities for a more fine-grained analysis of the data.\n",
    "\n",
    "As initially proposed, tables were constructed in such a way that two elements X,Y appear in the same table only if there exist 2 compounds $A = R-X_n$ and $B = R-Y_n$, where if X were replaced by Y in compound A, the result would be compound B. This approximation ignores every structural factor and relies only on compositional data."
   ]
  },
  {
   "cell_type": "code",
   "execution_count": 1,
   "metadata": {},
   "outputs": [
    {
     "name": "stdout",
     "output_type": "stream",
     "text": [
      "(6096, 61)\n",
      "['Ag', 'Al', 'As', 'Au', 'B', 'Ba', 'Be', 'Bi', 'Br', 'C']\n"
     ]
    }
   ],
   "source": [
    "import numpy as np\n",
    "import bz2\n",
    "import pickle\n",
    "import re\n",
    "from scipy import sparse as sp\n",
    "\n",
    "dataPath = \"../Preprocess/Data/\"\n",
    "\n",
    "# Load matches_pickle.bin\n",
    "Match_file = bz2.BZ2File(dataPath+'matches_pickle.bin', 'r')\n",
    "Matches = pickle.load(Match_file)\n",
    "\n",
    "# Load Rs_sparse.npz\n",
    "Rs = sp.load_npz(dataPath+'Rs_sparse.npz')\n",
    "print(Rs.shape)\n",
    "\n",
    "# Load element list\n",
    "elemList = []\n",
    "with open(f\"{dataPath}/ElementList.txt\",'r') as f:\n",
    "    for line in f:\n",
    "        elemList.append(line.strip())\n",
    "        \n",
    "print(elemList[:10])\n",
    "\n",
    "\n",
    "def getFormula(R,elemList):\n",
    "    \"\"\"Convert R sparse vector into string composition:\n",
    "    sparse([0,1,0,...,4,6]) --> Ti4X6 for instance \"\"\"\n",
    "    form = ''\n",
    "    for ind,n in zip(R.indices[:-1],R.data[:-1]):\n",
    "        form += elemList[ind] \n",
    "        if n != 1:\n",
    "            form += str(int(n))\n",
    "    return form + f'X{int(R.data[-1]) if R.data[-1]!=1 else \"\"}'"
   ]
  },
  {
   "cell_type": "markdown",
   "metadata": {},
   "source": [
    "## The idea of having information of substance ID and years is to have different query methods.\n",
    "\n",
    "1. For instance, we might be interested only in substances discovered before 1939.\n",
    "\n",
    "2. Or you may be interested in checking in which tables a particular compound occurs. For instance, what tables does H2O appear in? Then query by substance ID!\n",
    "\n",
    "---\n",
    "\n",
    "## First case: Filter out by year.\n",
    "\n",
    "It's similar for the other case, just replace the condition on the year, for a condition on ID."
   ]
  },
  {
   "cell_type": "code",
   "execution_count": 2,
   "metadata": {},
   "outputs": [
    {
     "name": "stdout",
     "output_type": "stream",
     "text": [
      "C14H10N2OX4\t['H', 'O']\n",
      "C9H12O3X\t['C', 'S']\n",
      "C5H7ClOX2\t['O', 'C']\n",
      "C9H12O3X2\t['C', 'N']\n",
      "C5H7ClOX3\t['O', 'C']\n",
      "C5H7ClOX4\t['H', 'O', 'C']\n",
      "C9H12O3X4\t['N', 'H']\n",
      "C5H7ClX3\t['O', 'C']\n",
      "Br2H12N4X\t['Cd', 'Pd', 'Pt']\n",
      "C6H9BX6\t['O', 'H']\n"
     ]
    }
   ],
   "source": [
    "year = 1930\n",
    "matches1930 = []\n",
    "idx1930 = []\n",
    "\n",
    "for j,mat in enumerate(Matches):\n",
    "    tmp_e, tmp_y, tmp_id = [],[],[]  #elems, years, ids\n",
    "    for i,y in enumerate(mat[1]):\n",
    "        if int(y)<year:\n",
    "            tmp_e.append(mat[0][i])\n",
    "            tmp_y.append(y)\n",
    "            tmp_id.append(mat[2][i])\n",
    "    if len(tmp_y)>1:    \n",
    "        matches1930.append([tmp_e,tmp_y,tmp_id])\n",
    "        idx1930.append(j)\n",
    "\n",
    "rs1930 = Rs[idx1930]    \n",
    "\n",
    "# List Subs. formula and related elements (found before 1930)\n",
    "N = 10\n",
    "for i in range(N):\n",
    "    print(f\"{getFormula(rs1930[i],elemList)}\\t{matches1930[i][0]}\")"
   ]
  },
  {
   "cell_type": "code",
   "execution_count": 3,
   "metadata": {},
   "outputs": [],
   "source": [
    "def findRns_withConds(Rs,formula,allOtherZero=True,n=False):\n",
    "    \"\"\"Finds all pairs (R,n) that fulfill certain conditions\n",
    "    Rs is the list of (R,n) vectors where to look up\n",
    "    Ts is the list of tables corresponding to these (R,n) pairs\n",
    "    formula is any composition to look for inside any R. \n",
    "        For instance formula = 'Cl3Si' forces to look for Rs where there are only 3 Cl and 1 Si\n",
    "    n is the X subindex. If set to False, then any n is posible\n",
    "    allOtherZero is True if we want to look up for Rs where only the aforementioned elements are present\n",
    "        if we're open to other possibilities, then False\n",
    "        \n",
    "    Returns: the pairs (R,n) fulfilling the conditions and their corresponding tables\n",
    "    \"\"\"\n",
    "    ## Convert given formula into conditions\n",
    "    Li = re.split(r\"(?<!^)(?=[A-Z])\",formula)  #Split as ['H2','O']\n",
    "    li = [re.split(r\"([A-z]+)(([0-9]*[.])?[0-9]+)\",i)\n",
    "          if bool(re.match(r'[A-z]*([0-9]*[.])?[0-9]+',i))\n",
    "          else re.split(r\"([A-z]+)(([0-9]*[.])?[0-9]+)\",i+'1') for i in Li]  \n",
    "    elems  = [i[1] for i in li]  # Index of element i to put correspondent data\n",
    "    subin = [int(i[2]) for i in li]           # Num. atoms of element i\n",
    "    \n",
    "    if n: condition = (Rs.toarray()[:,-1]==n)   # Fix choice of n\n",
    "    else: condition = True            # Otherwise any choice is ok\n",
    "\n",
    "    suma = 0\n",
    "    for elem,N in zip(elems,subin):\n",
    "        condition = condition & (Rs[:,elemList.index(elem)].toarray()==N).flatten()  # Apply each condition \n",
    "        suma += N\n",
    "\n",
    "    # Condition for looking only for exactly the inputed composition\n",
    "    if allOtherZero:   condition = condition & (Rs[:,:-1].toarray().sum(axis=1)==suma) \n",
    "\n",
    "    if not condition.any():\n",
    "        print('No (R,n)s where found that meet the provided conditions')\n",
    "        return 0\n",
    "    \n",
    "    # Make query\n",
    "    selectedRs = Rs[condition]\n",
    "\n",
    "    for R in selectedRs:\n",
    "        print(getFormula(R,elemList))"
   ]
  },
  {
   "cell_type": "code",
   "execution_count": 4,
   "metadata": {},
   "outputs": [
    {
     "name": "stdout",
     "output_type": "stream",
     "text": [
      "Example:\n",
      "Find all Rs containing exactly 3 Cl and 2 C\n",
      "\n",
      "\t- And anything else, with any n for X:\n",
      "\n",
      "C2H3Cl3OX\n",
      "C2HCl3X2\n",
      "C2H2Cl3OX\n",
      "C2Cl3X\n",
      "C2Cl3X3\n",
      "C2HCl3NOX\n",
      "C2HCl3O2X2\n",
      "C2Cl3OX\n",
      "C2H2Cl3X\n",
      "\n",
      "\t- And anything else, but n for X == 2:\n",
      "C2HCl3X2\n",
      "C2HCl3O2X2\n",
      "\n",
      "\t- And NOTHING else (except for X), with any n:\n",
      "C2Cl3X\n",
      "C2Cl3X3\n"
     ]
    }
   ],
   "source": [
    "# Example: Find all Rs containing exactly 3 Cl, 2 C and 1 O (and anything else)\n",
    "formula = 'Cl3C2'\n",
    "\n",
    "print(\"Example:\\nFind all Rs containing exactly 3 Cl and 2 C\\n\")\n",
    "print(\"\\t- And anything else, with any n for X:\\n\")\n",
    "findRns_withConds(Rs,formula,False)\n",
    "print(\"\\n\\t- And anything else, but n for X == 2:\")\n",
    "findRns_withConds(Rs,formula,False,2)\n",
    "print(\"\\n\\t- And NOTHING else (except for X), with any n:\")\n",
    "findRns_withConds(Rs,formula,True)"
   ]
  },
  {
   "cell_type": "markdown",
   "metadata": {},
   "source": [
    "### Explore which substitution formulas relate 2 elements."
   ]
  },
  {
   "cell_type": "code",
   "execution_count": 5,
   "metadata": {},
   "outputs": [],
   "source": [
    "def showCommonOccurences(elem1,elem2,maxNum):\n",
    "    \"\"\"Show which compounds exist in which elem1 and elem2 can be replaceable\n",
    "    Print first maxNum formulas\"\"\"\n",
    "\n",
    "    common_idx = [i for i,m in enumerate(Matches) if elem1 in m[0] and elem2 in m[0]]\n",
    "    print(f\"Number of common occurences: {len(common_idx)}\\n\")\n",
    "    print(f\"X = ({elem1}, {elem2}) \\n\")\n",
    "\n",
    "    for i in common_idx[:maxNum]:\n",
    "        print(f\"{getFormula(Rs[i],elemList)}\\t{Matches[i][0]}\")"
   ]
  },
  {
   "cell_type": "code",
   "execution_count": 6,
   "metadata": {},
   "outputs": [
    {
     "name": "stdout",
     "output_type": "stream",
     "text": [
      "Number of common occurences: 542\n",
      "\n",
      "X = (H, C) \n",
      "\n",
      "C5H7ClOX2\t['O', 'C', 'H']\n",
      "C5H7ClOX4\t['H', 'O', 'C']\n",
      "C12H19NX6\t['H', 'C']\n",
      "C13H14O4X2\t['O', 'C', 'H']\n",
      "C6H5NO2X2\t['H', 'O', 'C']\n",
      "C11H8O2X2\t['C', 'H']\n",
      "C16H26O4X2\t['C', 'H']\n",
      "C8H9NX2\t['C', 'H', 'O']\n",
      "C8H11NO2X6\t['H', 'C']\n",
      "C8H6N2O4X2\t['H', 'C']\n",
      "C3H4N4O3X2\t['H', 'C']\n",
      "C6H8O5X2\t['C', 'O', 'H']\n",
      "C6H8O5X4\t['H', 'C']\n",
      "C11H16O3X6\t['H', 'C']\n",
      "C10H10O3X4\t['C', 'H']\n",
      "C4H4O6X2\t['H', 'Ag', 'K', 'Na', 'C', 'Tl', 'Hg', 'Li']\n",
      "C6H7NO3X2\t['N', 'C', 'H']\n",
      "C6H7NO3X4\t['C', 'H']\n",
      "C8H13NO3X2\t['H', 'C']\n",
      "C16H20X10\t['C', 'H']\n"
     ]
    }
   ],
   "source": [
    "showCommonOccurences('H','C',20)"
   ]
  },
  {
   "cell_type": "markdown",
   "metadata": {},
   "source": [
    "## New section: How many possible PTs are there? (Search space for an optimization algorithm)"
   ]
  },
  {
   "cell_type": "code",
   "execution_count": 7,
   "metadata": {},
   "outputs": [],
   "source": [
    "from itertools import permutations\n",
    "from math import factorial"
   ]
  },
  {
   "cell_type": "markdown",
   "metadata": {},
   "source": [
    "N is the total number of different possible positions. e.g. 32*7=224 for long PT\n",
    "\n",
    "n is the number of elements. e.g. 60 in 1868\n",
    "\n",
    "### No. unique configurations not keeping order:\n",
    "\n",
    "\\begin{equation}\n",
    "\\frac{N!}{(N-n)!}\n",
    "\\end{equation}\n",
    "\n",
    "### No. configurations keeping order but not unique:\n",
    "\n",
    "\\begin{equation}\n",
    "\\frac{N!}{n!}\n",
    "\\end{equation}\n",
    "\n",
    "### No. unique configurations and keeping order:\n",
    "\n",
    "\\begin{equation}\n",
    "\\frac{N!}{(N-n)!n!}\n",
    "\\end{equation}"
   ]
  },
  {
   "cell_type": "code",
   "execution_count": 8,
   "metadata": {},
   "outputs": [
    {
     "name": "stdout",
     "output_type": "stream",
     "text": [
      "No. unique configurations not keeping order:\t 3024\n",
      "No. configurations keeping order but not unique: 15120\n",
      "No. unique configurations and keeping order:\t 126\n"
     ]
    }
   ],
   "source": [
    "N = 9     # Numero de posiciones (32*7 para PT)\n",
    "n = 4     # Numero de elementos (1,2,3,4,...)\n",
    "\n",
    "zeros = [0]*(N-n) \n",
    "unique_elems = [i for i in range(1,n+1)]\n",
    "\n",
    "perms = np.array(list(permutations(zeros + unique_elems)))\n",
    "\n",
    "# Según formula, es:\n",
    "print(\"No. unique configurations not keeping order:\\t\",int(factorial(N)/(factorial(N-n))))\n",
    "print(\"No. configurations keeping order but not unique:\",int(factorial(N)/(factorial(n))))\n",
    "print(\"No. unique configurations and keeping order:\\t\",int(factorial(N)/(factorial(N-n)*factorial(n))))"
   ]
  },
  {
   "cell_type": "markdown",
   "metadata": {},
   "source": [
    "### Run empirical calculations to corroborate the results above"
   ]
  },
  {
   "cell_type": "code",
   "execution_count": 9,
   "metadata": {},
   "outputs": [
    {
     "name": "stdout",
     "output_type": "stream",
     "text": [
      "No. unique configurations not keeping order:\t 3024\n",
      "No. configurations keeping order but not unique: 15120\n",
      "No. unique configurations and keeping order:\t 126\n"
     ]
    }
   ],
   "source": [
    "#No. unique configurations not keeping order\n",
    "a = np.unique(perms,axis=0)   # Take only unique permutations (that is, make all zeros equal)\n",
    "print(\"No. unique configurations not keeping order:\\t\",a.shape[0])\n",
    "\n",
    "condition = True\n",
    "for i in unique_elems[:-1]:\n",
    "    tmp_i = (perms == i).nonzero()[1]  # Get index of element i in permutation\n",
    "    tmp_i_1 = (perms == i+1).nonzero()[1]  # Get index of element i+1 in permutation\n",
    "    condition = condition & (tmp_i < tmp_i_1)\n",
    "#No. configurations keeping order but not unique\n",
    "a = perms[condition]\n",
    "print(\"No. configurations keeping order but not unique:\",a.shape[0])\n",
    "   \n",
    "uniqs = np.unique(a,axis=0)\n",
    "print(\"No. unique configurations and keeping order:\\t\",uniqs.shape[0])"
   ]
  },
  {
   "cell_type": "markdown",
   "metadata": {},
   "source": [
    "## That said, how many different possible PTs exist where the order is preserved?"
   ]
  },
  {
   "cell_type": "code",
   "execution_count": 10,
   "metadata": {},
   "outputs": [
    {
     "name": "stdout",
     "output_type": "stream",
     "text": [
      "No. unique configurations not keeping order:\t 1.8522056472827472e+135\n",
      "No. unique configurations and keeping order:\t 2.225944617131523e+53\n",
      "\n",
      "Difference is a factor of:\t\t\t 8.320987112741390e+81\n"
     ]
    }
   ],
   "source": [
    "N = 30*7     # Numero de posiciones (32*7)\n",
    "n = 60     # Numero de elementos (1,2,3,4,...)\n",
    "\n",
    "print(\"No. unique configurations not keeping order:\\t\",factorial(N)/(factorial(N-n)))\n",
    "\n",
    "#print(\"No. configurations keeping order but not unique:\",factorial(N)//(factorial(n)))\n",
    "\n",
    "print(\"No. unique configurations and keeping order:\\t\",factorial(N)/(factorial(N-n)*factorial(n)))\n",
    "\n",
    "print(f\"\\nDifference is a factor of:\\t\\t\\t {factorial(n):.15e}\")"
   ]
  },
  {
   "cell_type": "code",
   "execution_count": null,
   "metadata": {},
   "outputs": [],
   "source": []
  }
 ],
 "metadata": {
  "kernelspec": {
   "display_name": "cv",
   "language": "python",
   "name": "cv"
  },
  "language_info": {
   "codemirror_mode": {
    "name": "ipython",
    "version": 3
   },
   "file_extension": ".py",
   "mimetype": "text/x-python",
   "name": "python",
   "nbconvert_exporter": "python",
   "pygments_lexer": "ipython3",
   "version": "3.7.9"
  }
 },
 "nbformat": 4,
 "nbformat_minor": 2
}
