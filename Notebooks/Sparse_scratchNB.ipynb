{
 "cells": [
  {
   "cell_type": "code",
   "execution_count": 3,
   "metadata": {},
   "outputs": [],
   "source": [
    "import scipy.sparse as sp\n",
    "import numpy as np\n",
    "import sys"
   ]
  },
  {
   "cell_type": "markdown",
   "metadata": {},
   "source": [
    "## Depending on the dataset (and the memory we have) you may use the following dtypes:\n",
    "\n",
    "- np.ubyte: 1 byte Unsigned char ( 0 ... 255 )\n",
    "- np.byte : 1 byte Signed char ( -128 ... 127 )\n",
    "- np.short: 2 bytes C short   ( -32,768 ... 32,767 )  <-- This is more than enough"
   ]
  },
  {
   "cell_type": "code",
   "execution_count": 68,
   "metadata": {},
   "outputs": [
    {
     "name": "stdout",
     "output_type": "stream",
     "text": [
      "10000112\n"
     ]
    }
   ],
   "source": [
    "np_arr = np.zeros((10000,1000),dtype=np.ubyte)\n",
    "rows = [1,210,241,12,417,71,723,121,73,13,20]\n",
    "cols = [12,110,221,2,117,81,773,131,23,413,20]\n",
    "vals = [1,12,21,1,121,81,73,31,123,3,1]\n",
    "\n",
    "np_arr[rows,cols] = vals\n",
    "\n",
    "print(sys.getsizeof(np_arr))"
   ]
  },
  {
   "cell_type": "code",
   "execution_count": 69,
   "metadata": {},
   "outputs": [
    {
     "name": "stdout",
     "output_type": "stream",
     "text": [
      "64\n",
      "64\n",
      "64\n",
      "64\n",
      "64\n",
      "672\n",
      "64\n"
     ]
    }
   ],
   "source": [
    "sparse_forms = [sp.bsr_matrix,sp.coo_matrix,sp.csc_matrix,\n",
    "                sp.csr_matrix,sp.dia_matrix,sp.dok_matrix,\n",
    "                sp.lil_matrix]\n",
    "\n",
    "for form in sparse_forms:\n",
    "    spar = form(np_arr,dtype=np.ubyte)\n",
    "    print(sys.getsizeof(spar))"
   ]
  },
  {
   "cell_type": "code",
   "execution_count": 70,
   "metadata": {},
   "outputs": [],
   "source": [
    "spar_csr = sp.csr_matrix(np_arr,dtype=np.ubyte)\n",
    "spar_csc = sp.csc_matrix(np_arr,dtype=np.ubyte)"
   ]
  },
  {
   "cell_type": "code",
   "execution_count": 75,
   "metadata": {},
   "outputs": [
    {
     "name": "stdout",
     "output_type": "stream",
     "text": [
      "77.9 µs ± 2.93 µs per loop (mean ± std. dev. of 7 runs, 10000 loops each)\n"
     ]
    }
   ],
   "source": [
    "%%timeit\n",
    "\n",
    "n = spar_csr[812]"
   ]
  },
  {
   "cell_type": "code",
   "execution_count": 76,
   "metadata": {},
   "outputs": [
    {
     "name": "stdout",
     "output_type": "stream",
     "text": [
      "78.5 µs ± 1.11 µs per loop (mean ± std. dev. of 7 runs, 10000 loops each)\n"
     ]
    }
   ],
   "source": [
    "%%timeit\n",
    "\n",
    "n = spar_csc[812]"
   ]
  },
  {
   "cell_type": "code",
   "execution_count": 77,
   "metadata": {},
   "outputs": [
    {
     "name": "stdout",
     "output_type": "stream",
     "text": [
      "193 ns ± 9.45 ns per loop (mean ± std. dev. of 7 runs, 1000000 loops each)\n"
     ]
    }
   ],
   "source": [
    "%%timeit\n",
    "\n",
    "n = np_arr[812]"
   ]
  },
  {
   "cell_type": "code",
   "execution_count": 87,
   "metadata": {},
   "outputs": [],
   "source": [
    "subs = np.random.randint(0,255,1000,dtype=np.ubyte)\n",
    "subs_csr = sp.csr_matrix(subs,dtype=np.ubyte)"
   ]
  },
  {
   "cell_type": "code",
   "execution_count": 90,
   "metadata": {},
   "outputs": [
    {
     "name": "stdout",
     "output_type": "stream",
     "text": [
      "105 µs ± 2.37 µs per loop (mean ± std. dev. of 7 runs, 10000 loops each)\n"
     ]
    }
   ],
   "source": [
    "%%timeit\n",
    "\n",
    "spar_csr[817] - subs"
   ]
  },
  {
   "cell_type": "code",
   "execution_count": 91,
   "metadata": {},
   "outputs": [
    {
     "name": "stdout",
     "output_type": "stream",
     "text": [
      "188 µs ± 5.59 µs per loop (mean ± std. dev. of 7 runs, 10000 loops each)\n"
     ]
    }
   ],
   "source": [
    "%%timeit\n",
    "\n",
    "spar_csr[817] - subs_csr"
   ]
  },
  {
   "cell_type": "code",
   "execution_count": 84,
   "metadata": {},
   "outputs": [
    {
     "name": "stdout",
     "output_type": "stream",
     "text": [
      "4.63 ms ± 72.3 µs per loop (mean ± std. dev. of 7 runs, 100 loops each)\n"
     ]
    }
   ],
   "source": [
    "%%timeit\n",
    "\n",
    "spar_csc - subs"
   ]
  },
  {
   "cell_type": "code",
   "execution_count": 86,
   "metadata": {},
   "outputs": [
    {
     "name": "stdout",
     "output_type": "stream",
     "text": [
      "987 µs ± 35.7 µs per loop (mean ± std. dev. of 7 runs, 1000 loops each)\n"
     ]
    }
   ],
   "source": [
    "%%timeit\n",
    "\n",
    "np_arr - subs"
   ]
  },
  {
   "cell_type": "code",
   "execution_count": 93,
   "metadata": {},
   "outputs": [],
   "source": [
    "subs[0] = np.array([80],dtype=np.int64)"
   ]
  },
  {
   "cell_type": "code",
   "execution_count": 100,
   "metadata": {},
   "outputs": [
    {
     "data": {
      "text/plain": [
       "<1x10 sparse matrix of type '<class 'numpy.float64'>'\n",
       "\twith 0 stored elements in Compressed Sparse Row format>"
      ]
     },
     "execution_count": 100,
     "metadata": {},
     "output_type": "execute_result"
    }
   ],
   "source": [
    "sp.csr_matrix((1,10))"
   ]
  },
  {
   "cell_type": "code",
   "execution_count": 114,
   "metadata": {},
   "outputs": [],
   "source": [
    "import re\n",
    "def getVec_sparse(tx,elemList): #Tx = molecular formula, e.g. C4H2ClBr\n",
    "    #### This regex handles non-integer subindices: C6H16Na3O12.5 (which happens in DS) \n",
    "    Li = re.split(r\"(?<!^)(?=[A-Z])\",tx)  #Split as ['H2','O']\n",
    "    li = [i if bool(re.match(r'[A-z]*([0-9]*[.])?[0-9]+',i)) else i+'1' for i in Li]  #Adds 1 if no subindex. Result is ['H2','O1']\n",
    "    # Construct vector where each entry corresponds to the num. of atoms of that element in the compound.\n",
    "    col  = []\n",
    "    data = []\n",
    "    breakFlag = False\n",
    "    for i in li: #Loop through elements in compound\n",
    "        #i is a string: Xn, where X is an element and n its subindex on the compound\n",
    "        a = re.split(r\"([A-z]+)(([0-9]*[.])?[0-9]+)\",i) #Split these two components (X, n)\n",
    "        elem = a[1] #Get element\n",
    "        mul = float(a[2])  #Get subindex\n",
    "        if mul != int(mul):\n",
    "            breakFlag = True\n",
    "            break\n",
    "        elem_idx = elemList.index(elem)\n",
    "        col.append(elem_idx)\n",
    "        data.append(mul) #Assign this index to the position of the element in elemList\n",
    "        # Above we sum as it may happen something like C3H2COOH. If that happens, Hs sum up to 3, Os to 2, and so on.\n",
    "    if breakFlag:  return None  # If we found a non-integer index, return vec\n",
    "    else:          return sp.csr_matrix((data,([0]*len(col),col)), shape=(1,len(elemList)),dtype=np.short)\n",
    "    \n",
    "\n",
    "    \n",
    "def getVec(tx,elemList): #Tx = molecular formula, e.g. C4H2ClBr\n",
    "\n",
    "    #### This regex handles non-integer subindices: C6H16Na3O12.5 (which happens in DS) \n",
    "    Li = re.split(r\"(?<!^)(?=[A-Z])\",tx)  #Split as ['H2','O']\n",
    "    li = [i if bool(re.match(r'[A-z]*([0-9]*[.])?[0-9]+',i)) else i+'1' for i in Li]  #Adds 1 if no subindex. Result is ['H2','O1']\n",
    "\n",
    "    # Construct vector where each entry corresponds to the num. of atoms of that element in the compound.\n",
    "    vec = np.zeros(len(elemList))\n",
    "    for i in li: #Loop through elements in compound\n",
    "        #i is a string: Xn, where X is an element and n its subindex on the compound\n",
    "        a = re.split(r\"([A-z]+)(([0-9]*[.])?[0-9]+)\",i) #Split these two components (X, n)\n",
    "        elem = a[1] #Get element\n",
    "        mul = float(a[2])  #Get subindex\n",
    "        vec[elemList.index(elem)] += mul #Assign this index to the position of the element in elemList\n",
    "\n",
    "    if np.all(vec == vec.astype(int)):     return vec\n",
    "    else: return None"
   ]
  },
  {
   "cell_type": "code",
   "execution_count": 125,
   "metadata": {},
   "outputs": [
    {
     "name": "stdout",
     "output_type": "stream",
     "text": [
      "63.7 µs ± 1.8 µs per loop (mean ± std. dev. of 7 runs, 10000 loops each)\n"
     ]
    }
   ],
   "source": [
    "%%timeit\n",
    "\n",
    "getVec('CH2O3HOC2.1OOH2He3N2O',elemList)"
   ]
  },
  {
   "cell_type": "code",
   "execution_count": 126,
   "metadata": {},
   "outputs": [
    {
     "name": "stdout",
     "output_type": "stream",
     "text": [
      "26.4 µs ± 311 ns per loop (mean ± std. dev. of 7 runs, 10000 loops each)\n"
     ]
    }
   ],
   "source": [
    "%%timeit\n",
    "\n",
    "getVec_sparse('CH2O3HOC2.1OOH2He3N2O',elemList)"
   ]
  },
  {
   "cell_type": "code",
   "execution_count": 346,
   "metadata": {
    "scrolled": true
   },
   "outputs": [],
   "source": [
    "def getVec_sparse_v2(tx,elemList): #Tx = molecular formula, e.g. C4H2ClBr\n",
    "    #### This regex handles non-integer subindices: C6H16Na3O12.5 (which happens in DS) \n",
    "    Li = re.split(r\"(?<!^)(?=[A-Z])\",tx)  #Split as ['H2','O']\n",
    "    \n",
    "    # Adds 1 if no subindex. Result is ['H2','O1']. \n",
    "    # Right after, split chem symbol from subindex as [['H',2],['O',1]]\n",
    "    \n",
    "    li = [re.split(r\"([A-z]+)(([0-9]*[.])?[0-9]+)\",i)\n",
    "          if bool(re.match(r'[A-z]*([0-9]*[.])?[0-9]+',i))\n",
    "          else re.split(r\"([A-z]+)(([0-9]*[.])?[0-9]+)\",i+'1') for i in Li]  \n",
    "    \n",
    "    # Construct two lists: input for sparse matrix construction\n",
    "    col  = [elemList.index(i[1]) for i in li]  # Index of element i to put correspondent data\n",
    "    data = [float(i[2]) for i in li]           # Num. atoms of element i\n",
    "    \n",
    "    for i in data:\n",
    "        if float(i)!=int(i):\n",
    "            return None  # Return empty lists or better None?\n",
    "    return col,data\n",
    "\n",
    "def getElems(DataFile,NMax=None):\n",
    "    \"\"\"NMax specifies number of rows of dataset to be used\"\"\"\n",
    "    col_names = ['ID','formula','year']\n",
    "    sep = '\\t'\n",
    "\n",
    "    df = pd.read_csv(DataFile,header=None,sep=sep,nrows=nrows,names=col_names)  #Load data\n",
    "    \n",
    "    df['formula'] = df['formula'].str.strip()   #Remove white spaces at begginning and end of string \n",
    "\n",
    "    elems = set([])\n",
    "\n",
    "    for cmpnd in df['formula']:\n",
    "        txt = ''.join(re.findall(r'[A-z]',cmpnd))   #Remove all subindices (there must be a regex to this but who knows)\n",
    "        elems = elems.union(  set(re.split(r\"(?<!^)(?=[A-Z])\",txt))  )  # Add elements of this set to the set of known elements\n",
    "\n",
    "    elems = sorted(list(elems)) # Convert to list and sort\n",
    "\n",
    "    # Save this list of elements so it doesn't have to be calculated every time\n",
    "    #with open(\"./Data/ElementList.txt\", \"w\") as f:\n",
    "    #    for A in elems:\n",
    "    #        f.write(str(A) +\"\\n\")\n",
    "\n",
    "    return elems  # This returns a list with all sorted elements in dataset\n",
    "\n",
    "\n",
    "def allVecs_sparse(DataFile,NMax=None):\n",
    "    col_names = ['ID','formula','year']\n",
    "    sep = '\\t'\n",
    "\n",
    "    df = pd.read_csv(DataFile,header=None,sep=sep,nrows=nrows,names=col_names)  #Load data\n",
    "\n",
    "    df['formula'] = df['formula'].str.strip()   #Remove white spaces at begginning and end of string \n",
    "\n",
    "    elemList = getElems(DataFile,NMax)\n",
    "    \n",
    "    # List of lists [col,data]\n",
    "    colXdata = list(map(lambda x: getVec_sparse_v2(x,elemList) , df['formula'].values))\n",
    "    index = [i for i, l in enumerate(colXdata) if l is not None]\n",
    "    colXdata = [l for l in colXdata if l is not None]\n",
    "    \n",
    "    # See docs for scipy.sparse.csr_matrix to understand the syntaxis\n",
    "    indptr = np.cumsum([0]+list(map(lambda x: len(x[0]) , colXdata)))\n",
    "    indices = np.array(list(chain(*[l[0] for l in colXdata])))\n",
    "    data = np.array(list(chain(*[l[1] for l in colXdata])))\n",
    "\n",
    "    cmpnds = sp.csr_matrix((data, indices, indptr), \n",
    "                           shape=(len(colXdata), len(elemList)),\n",
    "                           dtype=np.short)\n",
    "       \n",
    "    years = df['year'].values[index]\n",
    "    subsID = df['ID'].values[index]\n",
    "    \n",
    "    del indptr, indices, data, df, index, colXdata\n",
    "\n",
    "    return cmpnds,years,subsID, elemList"
   ]
  },
  {
   "cell_type": "code",
   "execution_count": 351,
   "metadata": {},
   "outputs": [
    {
     "data": {
      "text/plain": [
       "[1, 2, 4, 5]"
      ]
     },
     "execution_count": 351,
     "metadata": {},
     "output_type": "execute_result"
    }
   ],
   "source": [
    "lel = [1,2,None,4,5]\n",
    "\n",
    "[i for i in lel if i is not None]"
   ]
  },
  {
   "cell_type": "code",
   "execution_count": 349,
   "metadata": {},
   "outputs": [
    {
     "data": {
      "text/plain": [
       "<11138x60 sparse matrix of type '<class 'numpy.int16'>'\n",
       "\twith 41691 stored elements in Compressed Sparse Row format>"
      ]
     },
     "execution_count": 349,
     "metadata": {},
     "output_type": "execute_result"
    }
   ],
   "source": [
    "subs_csr = allVecs_sparse(path,0)[0]\n",
    "subs_csr"
   ]
  },
  {
   "cell_type": "code",
   "execution_count": 335,
   "metadata": {},
   "outputs": [
    {
     "data": {
      "text/plain": [
       "(1336672, 64)"
      ]
     },
     "execution_count": 335,
     "metadata": {},
     "output_type": "execute_result"
    }
   ],
   "source": [
    "sys.getsizeof(subs_csr.toarray())"
   ]
  },
  {
   "cell_type": "code",
   "execution_count": 342,
   "metadata": {},
   "outputs": [
    {
     "data": {
      "text/plain": [
       "294702"
      ]
     },
     "execution_count": 342,
     "metadata": {},
     "output_type": "execute_result"
    }
   ],
   "source": [
    "a = subs_csr\n",
    "\n",
    "a.data.nbytes + a.indptr.nbytes + a.indices.nbytes"
   ]
  },
  {
   "cell_type": "code",
   "execution_count": 350,
   "metadata": {},
   "outputs": [
    {
     "data": {
      "text/plain": [
       "218"
      ]
     },
     "execution_count": 350,
     "metadata": {},
     "output_type": "execute_result"
    }
   ],
   "source": [
    "11356-11138"
   ]
  },
  {
   "cell_type": "code",
   "execution_count": 345,
   "metadata": {},
   "outputs": [
    {
     "data": {
      "text/plain": [
       "4.535293279312661"
      ]
     },
     "execution_count": 345,
     "metadata": {},
     "output_type": "execute_result"
    }
   ],
   "source": [
    "1336560/294702"
   ]
  },
  {
   "cell_type": "code",
   "execution_count": 339,
   "metadata": {},
   "outputs": [
    {
     "name": "stderr",
     "output_type": "stream",
     "text": [
      "/home/andres/anaconda3/envs/opencv/lib/python3.7/site-packages/ipykernel_launcher.py:1: DeprecationWarning: Using or importing the ABCs from 'collections' instead of from 'collections.abc' is deprecated since Python 3.3,and in 3.9 it will stop working\n",
      "  \"\"\"Entry point for launching an IPython kernel.\n"
     ]
    }
   ],
   "source": [
    "from collections import Mapping, Container\n",
    "from sys import getsizeof\n",
    " \n",
    "def deep_getsizeof(o, ids):\n",
    "    \"\"\"Find the memory footprint of a Python object\n",
    " \n",
    "    This is a recursive function that drills down a Python object graph\n",
    "    like a dictionary holding nested dictionaries with lists of lists\n",
    "    and tuples and sets.\n",
    " \n",
    "    The sys.getsizeof function does a shallow size of only. It counts each\n",
    "    object inside a container as pointer only regardless of how big it\n",
    "    really is.\n",
    " \n",
    "    :param o: the object\n",
    "    :param ids:\n",
    "    :return:\n",
    "    \"\"\"\n",
    "    d = deep_getsizeof\n",
    "    if id(o) in ids:\n",
    "        return 0\n",
    " \n",
    "    r = getsizeof(o)\n",
    "    ids.add(id(o))\n",
    " \n",
    "    if isinstance(o, str) or isinstance(0, unicode):\n",
    "        return r\n",
    " \n",
    "    if isinstance(o, Mapping):\n",
    "        return r + sum(d(k, ids) + d(v, ids) for k, v in o.iteritems())\n",
    " \n",
    "    if isinstance(o, Container):\n",
    "        return r + sum(d(x, ids) for x in o)\n",
    " \n",
    "    return r "
   ]
  },
  {
   "cell_type": "code",
   "execution_count": null,
   "metadata": {},
   "outputs": [],
   "source": [
    "indptr = np.array([0, 2, 3, 6])\n",
    "\n",
    "indices = np.array([0, 2, 2, 0, 1, 2])\n",
    "\n",
    "data = np.array([1, 2, 3, 4, 5, 6])\n",
    "\n",
    "csr_matrix((data, indices, indptr), shape=(3, 3)).toarray()\n",
    "array([[1, 0, 2],\n",
    "       [0, 0, 3],\n",
    "       [4, 5, 6]])"
   ]
  },
  {
   "cell_type": "code",
   "execution_count": null,
   "metadata": {},
   "outputs": [],
   "source": []
  },
  {
   "cell_type": "code",
   "execution_count": null,
   "metadata": {},
   "outputs": [],
   "source": []
  },
  {
   "cell_type": "code",
   "execution_count": 233,
   "metadata": {},
   "outputs": [
    {
     "data": {
      "text/plain": [
       "118"
      ]
     },
     "execution_count": 233,
     "metadata": {},
     "output_type": "execute_result"
    }
   ],
   "source": [
    "elemList = ['H', 'He', 'Li', 'Be', 'B', 'C', 'N', 'O', 'F', 'Ne', 'Na', 'Mg', 'Al', 'Si', 'P', 'S', 'Cl', 'Ar', 'K', 'Ca', 'Sc', 'Ti', 'V', 'Cr', 'Mn', 'Fe', 'Co', 'Ni', 'Cu', 'Zn', 'Ga', 'Ge', 'As', 'Se', 'Br', 'Kr', 'Rb', 'Sr', 'Y', 'Zr', 'Nb', 'Mo', 'Tc', 'Ru', 'Rh', 'Pd', 'Ag', 'Cd', 'In', 'Sn', 'Sb', 'Te', 'I', 'Xe', 'Cs', 'Ba', 'La', 'Ce', 'Pr', 'Nd', 'Pm', 'Sm', 'Eu', 'Gd', 'Tb', 'Dy', 'Ho', 'Er', 'Tm', 'Yb', 'Lu', 'Hf', 'Ta', 'W', 'Re', 'Os', 'Ir', 'Pt', 'Au', 'Hg', 'Tl', 'Pb', 'Bi', 'Po', 'At', 'Rn', 'Fr', 'Ra', 'Ac', 'Th', 'Pa', 'U', 'Np', 'Pu', 'Am', 'Cm', 'Bk', 'Cf', 'Es', 'Fm', 'Md', 'No', 'Lr', 'Rf', 'Db', 'Sg', 'Bh', 'Hs', 'Mt', 'Ds', 'Rg', 'Cn', 'Nn', 'Fl', 'Mc', 'Lv', 'Ts', 'Og']\n",
    "len(elemList)"
   ]
  },
  {
   "cell_type": "code",
   "execution_count": 238,
   "metadata": {},
   "outputs": [
    {
     "name": "stdout",
     "output_type": "stream",
     "text": [
      "38.8 µs ± 1.2 µs per loop (mean ± std. dev. of 7 runs, 10000 loops each)\n"
     ]
    }
   ],
   "source": [
    "%%timeit \n",
    "\n",
    "getVec_sparse_v2('CH2O3HOC2OOH2He3N2O',elemList)"
   ]
  },
  {
   "cell_type": "code",
   "execution_count": 239,
   "metadata": {},
   "outputs": [
    {
     "name": "stdout",
     "output_type": "stream",
     "text": [
      "58.7 µs ± 5.84 µs per loop (mean ± std. dev. of 7 runs, 10000 loops each)\n"
     ]
    }
   ],
   "source": [
    "%%timeit\n",
    "\n",
    "getVec('CH2O3HOC2OOH2He3N2O',elemList)"
   ]
  },
  {
   "cell_type": "code",
   "execution_count": 240,
   "metadata": {},
   "outputs": [
    {
     "data": {
      "text/plain": [
       "72"
      ]
     },
     "execution_count": 240,
     "metadata": {},
     "output_type": "execute_result"
    }
   ],
   "source": [
    "sys.getsizeof(getVec_sparse_v2('CH2O3HOC2OOH2He3N2OHe3Lv',elemList))"
   ]
  },
  {
   "cell_type": "code",
   "execution_count": 241,
   "metadata": {},
   "outputs": [
    {
     "data": {
      "text/plain": [
       "1040"
      ]
     },
     "execution_count": 241,
     "metadata": {},
     "output_type": "execute_result"
    }
   ],
   "source": [
    "sys.getsizeof(getVec('CH2O3HOC2OOH2He3N2OHe3Lv',elemList))"
   ]
  },
  {
   "cell_type": "code",
   "execution_count": 242,
   "metadata": {},
   "outputs": [
    {
     "data": {
      "text/plain": [
       "([5, 0], [1.0, 2.0])"
      ]
     },
     "execution_count": 242,
     "metadata": {},
     "output_type": "execute_result"
    }
   ],
   "source": [
    "getVec_sparse_v2('CH2',elemList)"
   ]
  },
  {
   "cell_type": "code",
   "execution_count": 243,
   "metadata": {},
   "outputs": [
    {
     "data": {
      "text/plain": [
       "array([2., 0., 0., 0., 0., 1., 0., 0., 0., 0., 0., 0., 0., 0., 0., 0., 0.,\n",
       "       0., 0., 0., 0., 0., 0., 0., 0., 0., 0., 0., 0., 0., 0., 0., 0., 0.,\n",
       "       0., 0., 0., 0., 0., 0., 0., 0., 0., 0., 0., 0., 0., 0., 0., 0., 0.,\n",
       "       0., 0., 0., 0., 0., 0., 0., 0., 0., 0., 0., 0., 0., 0., 0., 0., 0.,\n",
       "       0., 0., 0., 0., 0., 0., 0., 0., 0., 0., 0., 0., 0., 0., 0., 0., 0.,\n",
       "       0., 0., 0., 0., 0., 0., 0., 0., 0., 0., 0., 0., 0., 0., 0., 0., 0.,\n",
       "       0., 0., 0., 0., 0., 0., 0., 0., 0., 0., 0., 0., 0., 0., 0., 0.])"
      ]
     },
     "execution_count": 243,
     "metadata": {},
     "output_type": "execute_result"
    }
   ],
   "source": [
    "getVec('CH2',elemList)"
   ]
  },
  {
   "cell_type": "code",
   "execution_count": 229,
   "metadata": {},
   "outputs": [
    {
     "data": {
      "text/plain": [
       "14.444444444444445"
      ]
     },
     "execution_count": 229,
     "metadata": {},
     "output_type": "execute_result"
    }
   ],
   "source": [
    "1040/72"
   ]
  },
  {
   "cell_type": "code",
   "execution_count": null,
   "metadata": {},
   "outputs": [],
   "source": []
  }
 ],
 "metadata": {
  "kernelspec": {
   "display_name": "cv",
   "language": "python",
   "name": "cv"
  },
  "language_info": {
   "codemirror_mode": {
    "name": "ipython",
    "version": 3
   },
   "file_extension": ".py",
   "mimetype": "text/x-python",
   "name": "python",
   "nbconvert_exporter": "python",
   "pygments_lexer": "ipython3",
   "version": "3.7.9"
  }
 },
 "nbformat": 4,
 "nbformat_minor": 2
}
