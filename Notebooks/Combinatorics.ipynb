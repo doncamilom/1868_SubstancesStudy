{
 "cells": [
  {
   "cell_type": "code",
   "execution_count": 1,
   "metadata": {},
   "outputs": [],
   "source": [
    "from itertools import permutations\n",
    "from math import factorial\n",
    "import numpy as np"
   ]
  },
  {
   "cell_type": "markdown",
   "metadata": {},
   "source": [
    "N is the total number of different possible positions. e.g. 32*7=224 for long PT\n",
    "\n",
    "n is the number of elements. e.g. 60 in 1868\n",
    "\n",
    "### No. unique configurations not keeping order:\n",
    "\n",
    "\\begin{equation}\n",
    "\\frac{N!}{(N-n)!}\n",
    "\\end{equation}\n",
    "\n",
    "### No. configurations keeping order but not unique:\n",
    "\n",
    "\\begin{equation}\n",
    "\\frac{N!}{n!}\n",
    "\\end{equation}\n",
    "\n",
    "### No. unique configurations and keeping order:\n",
    "\n",
    "\\begin{equation}\n",
    "\\frac{N!}{(N-n)!n!}\n",
    "\\end{equation}"
   ]
  },
  {
   "cell_type": "code",
   "execution_count": 3,
   "metadata": {},
   "outputs": [
    {
     "name": "stdout",
     "output_type": "stream",
     "text": [
      "No. unique configurations not keeping order:\t 3024\n",
      "No. configurations keeping order but not unique: 15120\n",
      "No. unique configurations and keeping order:\t 126\n"
     ]
    }
   ],
   "source": [
    "N = 9     # Numero de posiciones (32*7 para PT)\n",
    "n = 4     # Numero de elementos (1,2,3,4,...)\n",
    "\n",
    "zeros = [0]*(N-n) \n",
    "unique_elems = [i for i in range(1,n+1)]\n",
    "\n",
    "perms = np.array(list(permutations(zeros + unique_elems)))\n",
    "\n",
    "# Según formula, es:\n",
    "\n",
    "print(\"No. unique configurations not keeping order:\\t\",int(factorial(N)/(factorial(N-n))))\n",
    "\n",
    "print(\"No. configurations keeping order but not unique:\",int(factorial(N)/(factorial(n))))\n",
    "\n",
    "print(\"No. unique configurations and keeping order:\\t\",int(factorial(N)/(factorial(N-n)*factorial(n))))"
   ]
  },
  {
   "cell_type": "code",
   "execution_count": 4,
   "metadata": {},
   "outputs": [
    {
     "data": {
      "text/plain": [
       "3024"
      ]
     },
     "execution_count": 4,
     "metadata": {},
     "output_type": "execute_result"
    }
   ],
   "source": [
    "#No. unique configurations not keeping order\n",
    "a = np.unique(perms,axis=0)   # Take only unique permutations (that is, make all zeros equal)\n",
    "a.shape[0]"
   ]
  },
  {
   "cell_type": "code",
   "execution_count": 5,
   "metadata": {},
   "outputs": [
    {
     "data": {
      "text/plain": [
       "15120"
      ]
     },
     "execution_count": 5,
     "metadata": {},
     "output_type": "execute_result"
    }
   ],
   "source": [
    "condition = True\n",
    "for i in unique_elems[:-1]:\n",
    "    tmp_i = (perms == i).nonzero()[1]  # Get index of element i in permutation\n",
    "    tmp_i_1 = (perms == i+1).nonzero()[1]  # Get index of element i+1 in permutation\n",
    "    \n",
    "    condition = condition & (tmp_i < tmp_i_1)\n",
    "    \n",
    "#No. configurations keeping order but not unique\n",
    "a = perms[condition]\n",
    "a.shape[0]"
   ]
  },
  {
   "cell_type": "code",
   "execution_count": 13,
   "metadata": {
    "scrolled": true
   },
   "outputs": [
    {
     "data": {
      "text/plain": [
       "126"
      ]
     },
     "execution_count": 13,
     "metadata": {},
     "output_type": "execute_result"
    }
   ],
   "source": [
    "uniqs = np.unique(a,axis=0)\n",
    "uniqs.shape[0]"
   ]
  },
  {
   "cell_type": "code",
   "execution_count": 14,
   "metadata": {
    "scrolled": true
   },
   "outputs": [
    {
     "data": {
      "text/plain": [
       "array([[0, 0, 0, 0, 0, 1, 2, 3, 4],\n",
       "       [0, 0, 0, 0, 1, 0, 2, 3, 4],\n",
       "       [0, 0, 0, 0, 1, 2, 0, 3, 4],\n",
       "       [0, 0, 0, 0, 1, 2, 3, 0, 4],\n",
       "       [0, 0, 0, 0, 1, 2, 3, 4, 0],\n",
       "       [0, 0, 0, 1, 0, 0, 2, 3, 4],\n",
       "       [0, 0, 0, 1, 0, 2, 0, 3, 4],\n",
       "       [0, 0, 0, 1, 0, 2, 3, 0, 4],\n",
       "       [0, 0, 0, 1, 0, 2, 3, 4, 0],\n",
       "       [0, 0, 0, 1, 2, 0, 0, 3, 4],\n",
       "       [0, 0, 0, 1, 2, 0, 3, 0, 4],\n",
       "       [0, 0, 0, 1, 2, 0, 3, 4, 0],\n",
       "       [0, 0, 0, 1, 2, 3, 0, 0, 4],\n",
       "       [0, 0, 0, 1, 2, 3, 0, 4, 0],\n",
       "       [0, 0, 0, 1, 2, 3, 4, 0, 0],\n",
       "       [0, 0, 1, 0, 0, 0, 2, 3, 4],\n",
       "       [0, 0, 1, 0, 0, 2, 0, 3, 4],\n",
       "       [0, 0, 1, 0, 0, 2, 3, 0, 4],\n",
       "       [0, 0, 1, 0, 0, 2, 3, 4, 0],\n",
       "       [0, 0, 1, 0, 2, 0, 0, 3, 4],\n",
       "       [0, 0, 1, 0, 2, 0, 3, 0, 4],\n",
       "       [0, 0, 1, 0, 2, 0, 3, 4, 0],\n",
       "       [0, 0, 1, 0, 2, 3, 0, 0, 4],\n",
       "       [0, 0, 1, 0, 2, 3, 0, 4, 0],\n",
       "       [0, 0, 1, 0, 2, 3, 4, 0, 0],\n",
       "       [0, 0, 1, 2, 0, 0, 0, 3, 4],\n",
       "       [0, 0, 1, 2, 0, 0, 3, 0, 4],\n",
       "       [0, 0, 1, 2, 0, 0, 3, 4, 0],\n",
       "       [0, 0, 1, 2, 0, 3, 0, 0, 4],\n",
       "       [0, 0, 1, 2, 0, 3, 0, 4, 0]])"
      ]
     },
     "execution_count": 14,
     "metadata": {},
     "output_type": "execute_result"
    }
   ],
   "source": [
    "import sys\n",
    "np.set_printoptions(threshold=sys.maxsize)\n",
    "\n",
    "uniqs[0:30]"
   ]
  },
  {
   "cell_type": "code",
   "execution_count": 18,
   "metadata": {},
   "outputs": [
    {
     "name": "stdout",
     "output_type": "stream",
     "text": [
      "[1 0 2 3 0 0 0 0 4]\n",
      "\n",
      "[[1 0 2]\n",
      " [3 0 0]\n",
      " [0 0 4]]\n"
     ]
    }
   ],
   "source": [
    "i=100\n",
    "\n",
    "print(uniqs[i])\n",
    "print()\n",
    "print(uniqs[i].reshape(3,3))"
   ]
  },
  {
   "cell_type": "markdown",
   "metadata": {},
   "source": [
    "## That said, how many different possible PTs exist where the order is preserved?"
   ]
  },
  {
   "cell_type": "code",
   "execution_count": 32,
   "metadata": {},
   "outputs": [
    {
     "name": "stdout",
     "output_type": "stream",
     "text": [
      "No. unique configurations not keeping order:\t 1.8522056472827472e+135\n",
      "No. unique configurations and keeping order:\t 2.225944617131523e+53\n",
      "\n",
      "Difference is a factor of:\t\t\t 8.320987112741390e+81\n"
     ]
    }
   ],
   "source": [
    "N = 30*7     # Numero de posiciones (32*7)\n",
    "n = 60     # Numero de elementos (1,2,3,4,...)\n",
    "\n",
    "print(\"No. unique configurations not keeping order:\\t\",factorial(N)/(factorial(N-n)))\n",
    "\n",
    "#print(\"No. configurations keeping order but not unique:\",factorial(N)//(factorial(n)))\n",
    "\n",
    "print(\"No. unique configurations and keeping order:\\t\",factorial(N)/(factorial(N-n)*factorial(n)))\n",
    "\n",
    "print(f\"\\nDifference is a factor of:\\t\\t\\t {factorial(n):.15e}\")"
   ]
  },
  {
   "cell_type": "code",
   "execution_count": null,
   "metadata": {},
   "outputs": [],
   "source": []
  },
  {
   "cell_type": "code",
   "execution_count": null,
   "metadata": {},
   "outputs": [],
   "source": []
  }
 ],
 "metadata": {
  "kernelspec": {
   "display_name": "Python 3",
   "language": "python",
   "name": "python3"
  },
  "language_info": {
   "codemirror_mode": {
    "name": "ipython",
    "version": 3
   },
   "file_extension": ".py",
   "mimetype": "text/x-python",
   "name": "python",
   "nbconvert_exporter": "python",
   "pygments_lexer": "ipython3",
   "version": "3.7.3"
  }
 },
 "nbformat": 4,
 "nbformat_minor": 2
}
